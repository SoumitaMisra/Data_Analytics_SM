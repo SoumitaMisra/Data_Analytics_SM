{
 "cells": [
  {
   "cell_type": "code",
   "execution_count": 2,
   "id": "9c2879d0-8be6-4559-aba0-fbb3aefee461",
   "metadata": {},
   "outputs": [
    {
     "name": "stdout",
     "output_type": "stream",
     "text": [
      "Hello World\n"
     ]
    }
   ],
   "source": [
    "print (\"Hello World\")"
   ]
  },
  {
   "cell_type": "code",
   "execution_count": 3,
   "id": "ff9f05b2-2ba1-4d30-88b7-03fef4b97bbd",
   "metadata": {},
   "outputs": [
    {
     "name": "stdout",
     "output_type": "stream",
     "text": [
      "helloworld\n"
     ]
    }
   ],
   "source": [
    "print ('hello' \"world\")"
   ]
  },
  {
   "cell_type": "code",
   "execution_count": 6,
   "id": "46035759-1d99-4529-a231-67d343b304f1",
   "metadata": {},
   "outputs": [
    {
     "name": "stdout",
     "output_type": "stream",
     "text": [
      "hello world soumita misra\n"
     ]
    }
   ],
   "source": [
    "print (\"hello\", \"world\", \"soumita\", \"misra\")"
   ]
  },
  {
   "cell_type": "code",
   "execution_count": 7,
   "id": "2c347ef6-5778-4b13-a1da-6ff4ee61ae47",
   "metadata": {},
   "outputs": [
    {
     "name": "stdout",
     "output_type": "stream",
     "text": [
      "helloworld\n"
     ]
    }
   ],
   "source": [
    "print(\"hello\"+\"world\")"
   ]
  },
  {
   "cell_type": "code",
   "execution_count": 9,
   "id": "644f014a-e360-4ad7-a6aa-9846d421e558",
   "metadata": {},
   "outputs": [
    {
     "name": "stdout",
     "output_type": "stream",
     "text": [
      "hello world\n"
     ]
    }
   ],
   "source": [
    "print(\"hello\" + \" world\")"
   ]
  },
  {
   "cell_type": "code",
   "execution_count": 10,
   "id": "9790b4d1-3306-49f3-8276-77837ee5e9cd",
   "metadata": {},
   "outputs": [
    {
     "name": "stdout",
     "output_type": "stream",
     "text": [
      "hello World\n"
     ]
    }
   ],
   "source": [
    "print(\"hello\"+ \" \" + \"World\")"
   ]
  },
  {
   "cell_type": "code",
   "execution_count": 2,
   "id": "7402854e-28f0-41ad-9abf-6a9b89c936b3",
   "metadata": {},
   "outputs": [
    {
     "name": "stdout",
     "output_type": "stream",
     "text": [
      "helloworld\n"
     ]
    }
   ],
   "source": [
    "print(\"hello\", end= '')\n",
    "print (\"world\")"
   ]
  },
  {
   "cell_type": "code",
   "execution_count": 8,
   "id": "26f3758f-75aa-4df9-a0ba-3c06c56a496c",
   "metadata": {},
   "outputs": [
    {
     "name": "stdout",
     "output_type": "stream",
     "text": [
      "hello***world\n"
     ]
    }
   ],
   "source": [
    "print(\"hello\",end='***')\n",
    "print(\"world\")"
   ]
  },
  {
   "cell_type": "code",
   "execution_count": 9,
   "id": "865fc3b2-5c7d-448e-aaf7-d77275119170",
   "metadata": {},
   "outputs": [
    {
     "name": "stdout",
     "output_type": "stream",
     "text": [
      "hello\n",
      "world\n"
     ]
    }
   ],
   "source": [
    "print(\"hello\",end='\\n')\n",
    "print(\"world\")"
   ]
  },
  {
   "cell_type": "code",
   "execution_count": 3,
   "id": "b6d36423-59c4-40fc-8006-aebacaac6f56",
   "metadata": {},
   "outputs": [
    {
     "name": "stdout",
     "output_type": "stream",
     "text": [
      "hello world\n"
     ]
    }
   ],
   "source": [
    "print(\"hello\", end= ' ')\n",
    "print('world')"
   ]
  },
  {
   "cell_type": "code",
   "execution_count": 4,
   "id": "cebc69e0-daf0-404b-b1cc-e6be43c4ef12",
   "metadata": {},
   "outputs": [
    {
     "name": "stdout",
     "output_type": "stream",
     "text": [
      "3+4\n"
     ]
    }
   ],
   "source": [
    "print(\"3+4\")"
   ]
  },
  {
   "cell_type": "code",
   "execution_count": 5,
   "id": "7d5c7717-6164-4cbb-b7a7-f69232e4a1d0",
   "metadata": {},
   "outputs": [
    {
     "name": "stdout",
     "output_type": "stream",
     "text": [
      "9\n"
     ]
    }
   ],
   "source": [
    "print(4+5)"
   ]
  },
  {
   "cell_type": "code",
   "execution_count": null,
   "id": "12e69d52-5566-47d6-919a-8ce4e82d9428",
   "metadata": {},
   "outputs": [],
   "source": []
  }
 ],
 "metadata": {
  "kernelspec": {
   "display_name": "Python 3 (ipykernel)",
   "language": "python",
   "name": "python3"
  },
  "language_info": {
   "codemirror_mode": {
    "name": "ipython",
    "version": 3
   },
   "file_extension": ".py",
   "mimetype": "text/x-python",
   "name": "python",
   "nbconvert_exporter": "python",
   "pygments_lexer": "ipython3",
   "version": "3.11.7"
  }
 },
 "nbformat": 4,
 "nbformat_minor": 5
}
